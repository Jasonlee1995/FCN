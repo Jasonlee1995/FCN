{
 "cells": [
  {
   "cell_type": "markdown",
   "metadata": {},
   "source": [
    "# FCN\n",
    "\n",
    "## 1. Environment Setup\n",
    "\n",
    "### 1.0. Check GPU"
   ]
  },
  {
   "cell_type": "code",
   "execution_count": 1,
   "metadata": {},
   "outputs": [
    {
     "name": "stdout",
     "output_type": "stream",
     "text": [
      "Sun Jan 31 06:06:24 2021       \r\n",
      "+-----------------------------------------------------------------------------+\r\n",
      "| NVIDIA-SMI 455.23.04    Driver Version: 455.23.04    CUDA Version: 11.1     |\r\n",
      "|-------------------------------+----------------------+----------------------+\r\n",
      "| GPU  Name        Persistence-M| Bus-Id        Disp.A | Volatile Uncorr. ECC |\r\n",
      "| Fan  Temp  Perf  Pwr:Usage/Cap|         Memory-Usage | GPU-Util  Compute M. |\r\n",
      "|                               |                      |               MIG M. |\r\n",
      "|===============================+======================+======================|\r\n",
      "|   0  GeForce RTX 3090    Off  | 00000000:01:00.0 Off |                  N/A |\r\n",
      "| 76%   60C    P2   138W / 370W |    281MiB / 24265MiB |      0%      Default |\r\n",
      "|                               |                      |                  N/A |\r\n",
      "+-------------------------------+----------------------+----------------------+\r\n",
      "|   1  GeForce RTX 208...  Off  | 00000000:03:00.0 Off |                  N/A |\r\n",
      "| 25%   30C    P8    12W / 257W |    158MiB / 11019MiB |      0%      Default |\r\n",
      "|                               |                      |                  N/A |\r\n",
      "+-------------------------------+----------------------+----------------------+\r\n",
      "                                                                               \r\n",
      "+-----------------------------------------------------------------------------+\r\n",
      "| Processes:                                                                  |\r\n",
      "|  GPU   GI   CI        PID   Type   Process name                  GPU Memory |\r\n",
      "|        ID   ID                                                   Usage      |\r\n",
      "|=============================================================================|\r\n",
      "+-----------------------------------------------------------------------------+\r\n"
     ]
    }
   ],
   "source": [
    "!nvidia-smi"
   ]
  },
  {
   "cell_type": "code",
   "execution_count": 2,
   "metadata": {},
   "outputs": [
    {
     "name": "stdout",
     "output_type": "stream",
     "text": [
      "nvcc: NVIDIA (R) Cuda compiler driver\r\n",
      "Copyright (c) 2005-2020 NVIDIA Corporation\r\n",
      "Built on Wed_Jul_22_19:09:09_PDT_2020\r\n",
      "Cuda compilation tools, release 11.0, V11.0.221\r\n",
      "Build cuda_11.0_bu.TC445_37.28845127_0\r\n"
     ]
    }
   ],
   "source": [
    "!nvcc --version"
   ]
  },
  {
   "cell_type": "code",
   "execution_count": null,
   "metadata": {},
   "outputs": [],
   "source": []
  },
  {
   "cell_type": "markdown",
   "metadata": {},
   "source": [
    "### 1.1. Install Pytorch and torchvision"
   ]
  },
  {
   "cell_type": "code",
   "execution_count": 3,
   "metadata": {
    "scrolled": true
   },
   "outputs": [
    {
     "name": "stdout",
     "output_type": "stream",
     "text": [
      "Looking in links: https://download.pytorch.org/whl/torch_stable.html\n",
      "Requirement already satisfied: torch==1.7.1+cu110 in /usr/local/lib/python3.6/dist-packages (1.7.1+cu110)\n",
      "Requirement already satisfied: torchvision==0.8.2+cu110 in /usr/local/lib/python3.6/dist-packages (0.8.2+cu110)\n",
      "Requirement already satisfied: torchaudio===0.7.2 in /usr/local/lib/python3.6/dist-packages (0.7.2)\n",
      "Requirement already satisfied: dataclasses; python_version < \"3.7\" in /usr/local/lib/python3.6/dist-packages (from torch==1.7.1+cu110) (0.8)\n",
      "Requirement already satisfied: numpy in /usr/local/lib/python3.6/dist-packages (from torch==1.7.1+cu110) (1.19.4)\n",
      "Requirement already satisfied: typing-extensions in /usr/local/lib/python3.6/dist-packages (from torch==1.7.1+cu110) (3.7.4.3)\n",
      "Requirement already satisfied: pillow>=4.1.1 in /usr/local/lib/python3.6/dist-packages (from torchvision==0.8.2+cu110) (8.0.1)\n",
      "\u001b[33mWARNING: You are using pip version 20.2.4; however, version 21.0.1 is available.\n",
      "You should consider upgrading via the '/usr/bin/python3 -m pip install --upgrade pip' command.\u001b[0m\n"
     ]
    }
   ],
   "source": [
    "!pip install torch==1.7.1+cu110 torchvision==0.8.2+cu110 torchaudio===0.7.2 -f https://download.pytorch.org/whl/torch_stable.html"
   ]
  },
  {
   "cell_type": "code",
   "execution_count": null,
   "metadata": {},
   "outputs": [],
   "source": []
  },
  {
   "cell_type": "markdown",
   "metadata": {},
   "source": [
    "### 1.2. Install scipy"
   ]
  },
  {
   "cell_type": "code",
   "execution_count": 4,
   "metadata": {},
   "outputs": [
    {
     "name": "stdout",
     "output_type": "stream",
     "text": [
      "Requirement already satisfied: scipy in /usr/local/lib/python3.6/dist-packages (1.5.4)\n",
      "Requirement already satisfied: numpy>=1.14.5 in /usr/local/lib/python3.6/dist-packages (from scipy) (1.19.4)\n",
      "\u001b[33mWARNING: You are using pip version 20.2.4; however, version 21.0.1 is available.\n",
      "You should consider upgrading via the '/usr/bin/python3 -m pip install --upgrade pip' command.\u001b[0m\n"
     ]
    }
   ],
   "source": [
    "!pip install scipy"
   ]
  },
  {
   "cell_type": "code",
   "execution_count": null,
   "metadata": {},
   "outputs": [],
   "source": []
  },
  {
   "cell_type": "markdown",
   "metadata": {},
   "source": [
    "### 1.3. Import"
   ]
  },
  {
   "cell_type": "code",
   "execution_count": 5,
   "metadata": {},
   "outputs": [],
   "source": [
    "import augmentation, train\n",
    "\n",
    "import torch\n",
    "import torchvision\n",
    "\n",
    "import matplotlib.pyplot as plt\n",
    "\n",
    "# Ignore Warning\n",
    "import warnings\n",
    "warnings.filterwarnings(action='ignore')"
   ]
  },
  {
   "cell_type": "code",
   "execution_count": null,
   "metadata": {},
   "outputs": [],
   "source": []
  },
  {
   "cell_type": "markdown",
   "metadata": {},
   "source": [
    "## 2. Data Preprocessing"
   ]
  },
  {
   "cell_type": "code",
   "execution_count": 6,
   "metadata": {},
   "outputs": [],
   "source": [
    "train_batch_size = 1\n",
    "test_batch_size = 1"
   ]
  },
  {
   "cell_type": "code",
   "execution_count": 7,
   "metadata": {},
   "outputs": [
    {
     "name": "stdout",
     "output_type": "stream",
     "text": [
      "Using downloaded and verified file: ./VOCtrainval_11-May-2012.tar\n"
     ]
    }
   ],
   "source": [
    "train_tf = augmentation.Mask_Aug(transforms=[augmentation.ToTensor(), augmentation.PILToTensor(), \n",
    "                                             augmentation.Resize((256, 256)), augmentation.RandomCrop((224, 224)), \n",
    "                                             augmentation.RandomHorizontalFlip(),\n",
    "                                             augmentation.Normalize(mean=[0.485, 0.456, 0.406], std=[0.229, 0.224, 0.225])])\n",
    "\n",
    "val_tf = augmentation.Mask_Aug(transforms=[augmentation.ToTensor(), augmentation.PILToTensor(), \n",
    "                                           augmentation.Resize((256, 256)), \n",
    "                                           augmentation.Normalize(mean=[0.485, 0.456, 0.406], std=[0.229, 0.224, 0.225])])\n",
    "\n",
    "train_dataset = torchvision.datasets.SBDataset(root='./', image_set='train_noval', mode='segmentation', download=False, transforms=train_tf)\n",
    "train_loader = torch.utils.data.DataLoader(train_dataset, batch_size=train_batch_size, shuffle=True, num_workers=4, pin_memory=True)\n",
    "\n",
    "val_dataset = torchvision.datasets.VOCSegmentation(root='./', year='2012', image_set='val', download=True, transforms=val_tf)\n",
    "val_loader = torch.utils.data.DataLoader(val_dataset, batch_size=test_batch_size, shuffle=False, num_workers=4, pin_memory=True)"
   ]
  },
  {
   "cell_type": "code",
   "execution_count": null,
   "metadata": {},
   "outputs": [],
   "source": []
  },
  {
   "cell_type": "markdown",
   "metadata": {},
   "source": [
    "## 3. Train Model"
   ]
  },
  {
   "cell_type": "code",
   "execution_count": 8,
   "metadata": {},
   "outputs": [],
   "source": [
    "num = 32\n",
    "num_classes = 21\n",
    "ignore_index = 255\n",
    "\n",
    "gpu_id = 0\n",
    "print_freq = 1500\n",
    "epoch_print = 2\n",
    "\n",
    "save = False\n",
    "epochs = 36\n",
    "\n",
    "lr = 0.0001\n",
    "momentum = 0.99\n",
    "weight_decay = 0.0005"
   ]
  },
  {
   "cell_type": "code",
   "execution_count": 9,
   "metadata": {
    "scrolled": true
   },
   "outputs": [],
   "source": [
    "fcn = train.FCN(num=num, num_classes=num_classes, ignore_index=ignore_index, \n",
    "                gpu_id=gpu_id, print_freq=print_freq, epoch_print=epoch_print)"
   ]
  },
  {
   "cell_type": "code",
   "execution_count": 10,
   "metadata": {
    "scrolled": true
   },
   "outputs": [
    {
     "name": "stdout",
     "output_type": "stream",
     "text": [
      "Epoch 1 Started...\n",
      "\n",
      "*********************************** Best mIoU Updated ***********************************\n",
      "Iteration : 1500 - Train Loss : 0.719932, Test Loss : 0.884782, Test mIoU : 10.3253\n",
      "\n",
      "\n",
      "*********************************** Best mIoU Updated ***********************************\n",
      "Iteration : 3000 - Train Loss : 0.453612, Test Loss : 0.883543, Test mIoU : 14.7557\n",
      "\n",
      "\n",
      "*********************************** Best mIoU Updated ***********************************\n",
      "Iteration : 4500 - Train Loss : 0.562616, Test Loss : 0.662406, Test mIoU : 22.1239\n",
      "\n",
      "Epoch 3 Started...\n",
      "\n",
      "*********************************** Best mIoU Updated ***********************************\n",
      "Iteration : 1500 - Train Loss : 0.713833, Test Loss : 0.492267, Test mIoU : 40.5549\n",
      "\n",
      "Iteration : 3000 - Train Loss : 0.303383, Test Loss : 0.620168, Test mIoU : 33.8692\n",
      "Iteration : 4500 - Train Loss : 0.670539, Test Loss : 0.488844, Test mIoU : 40.5482\n",
      "Epoch 5 Started...\n",
      "\n",
      "*********************************** Best mIoU Updated ***********************************\n",
      "Iteration : 1500 - Train Loss : 0.418175, Test Loss : 0.509288, Test mIoU : 42.3627\n",
      "\n",
      "\n",
      "*********************************** Best mIoU Updated ***********************************\n",
      "Iteration : 3000 - Train Loss : 0.708323, Test Loss : 0.482273, Test mIoU : 42.4775\n",
      "\n",
      "\n",
      "*********************************** Best mIoU Updated ***********************************\n",
      "Iteration : 4500 - Train Loss : 0.094797, Test Loss : 0.463170, Test mIoU : 43.9121\n",
      "\n",
      "Epoch 7 Started...\n",
      "\n",
      "*********************************** Best mIoU Updated ***********************************\n",
      "Iteration : 1500 - Train Loss : 0.184254, Test Loss : 0.510582, Test mIoU : 44.7311\n",
      "\n",
      "\n",
      "*********************************** Best mIoU Updated ***********************************\n",
      "Iteration : 3000 - Train Loss : 0.119494, Test Loss : 0.426095, Test mIoU : 48.2251\n",
      "\n",
      "Iteration : 4500 - Train Loss : 0.156721, Test Loss : 0.455368, Test mIoU : 46.2632\n",
      "Epoch 9 Started...\n",
      "\n",
      "*********************************** Best mIoU Updated ***********************************\n",
      "Iteration : 1500 - Train Loss : 0.347798, Test Loss : 0.429512, Test mIoU : 48.5849\n",
      "\n",
      "Iteration : 3000 - Train Loss : 0.426047, Test Loss : 0.454218, Test mIoU : 46.4260\n",
      "Iteration : 4500 - Train Loss : 0.421339, Test Loss : 0.464890, Test mIoU : 45.0014\n",
      "Epoch 11 Started...\n",
      "\n",
      "*********************************** Best mIoU Updated ***********************************\n",
      "Iteration : 1500 - Train Loss : 0.221361, Test Loss : 0.402682, Test mIoU : 51.3883\n",
      "\n",
      "Iteration : 3000 - Train Loss : 0.149967, Test Loss : 0.408900, Test mIoU : 50.7359\n",
      "Iteration : 4500 - Train Loss : 0.321387, Test Loss : 0.508020, Test mIoU : 45.7212\n",
      "Epoch 13 Started...\n",
      "\n",
      "*********************************** Best mIoU Updated ***********************************\n",
      "Iteration : 1500 - Train Loss : 0.422469, Test Loss : 0.403180, Test mIoU : 53.1343\n",
      "\n",
      "Iteration : 3000 - Train Loss : 0.449264, Test Loss : 0.417847, Test mIoU : 51.3852\n",
      "Iteration : 4500 - Train Loss : 0.397018, Test Loss : 0.403889, Test mIoU : 51.4929\n",
      "Epoch 15 Started...\n",
      "Iteration : 1500 - Train Loss : 0.204107, Test Loss : 0.395118, Test mIoU : 52.2196\n",
      "Iteration : 3000 - Train Loss : 0.152262, Test Loss : 0.456331, Test mIoU : 48.0395\n",
      "\n",
      "*********************************** Best mIoU Updated ***********************************\n",
      "Iteration : 4500 - Train Loss : 0.081378, Test Loss : 0.384841, Test mIoU : 54.0556\n",
      "\n",
      "Epoch 17 Started...\n",
      "Iteration : 1500 - Train Loss : 0.121984, Test Loss : 0.521333, Test mIoU : 40.5376\n",
      "Iteration : 3000 - Train Loss : 0.061269, Test Loss : 0.491861, Test mIoU : 43.4455\n",
      "Iteration : 4500 - Train Loss : 0.704436, Test Loss : 0.459613, Test mIoU : 47.2664\n",
      "Epoch 19 Started...\n",
      "Iteration : 1500 - Train Loss : 0.157844, Test Loss : 0.467369, Test mIoU : 46.4618\n",
      "Iteration : 3000 - Train Loss : 0.095119, Test Loss : 0.492082, Test mIoU : 48.0620\n",
      "Iteration : 4500 - Train Loss : 0.223016, Test Loss : 0.435847, Test mIoU : 48.8237\n",
      "Epoch 21 Started...\n",
      "Iteration : 1500 - Train Loss : 0.410128, Test Loss : 0.484189, Test mIoU : 45.6839\n",
      "Iteration : 3000 - Train Loss : 0.142787, Test Loss : 0.425183, Test mIoU : 51.5277\n",
      "Iteration : 4500 - Train Loss : 0.102015, Test Loss : 0.426773, Test mIoU : 51.0614\n",
      "Epoch 23 Started...\n",
      "Iteration : 1500 - Train Loss : 0.111427, Test Loss : 0.402332, Test mIoU : 53.6381\n",
      "Iteration : 3000 - Train Loss : 0.534726, Test Loss : 0.418723, Test mIoU : 51.7873\n",
      "Iteration : 4500 - Train Loss : 0.110346, Test Loss : 0.415834, Test mIoU : 51.6192\n",
      "Epoch 25 Started...\n",
      "Iteration : 1500 - Train Loss : 0.272986, Test Loss : 0.409282, Test mIoU : 52.8057\n",
      "\n",
      "*********************************** Best mIoU Updated ***********************************\n",
      "Iteration : 3000 - Train Loss : 0.154404, Test Loss : 0.386089, Test mIoU : 54.6063\n",
      "\n",
      "Iteration : 4500 - Train Loss : 0.408766, Test Loss : 0.461008, Test mIoU : 50.5971\n",
      "Epoch 27 Started...\n",
      "Iteration : 1500 - Train Loss : 0.180291, Test Loss : 0.435374, Test mIoU : 50.9814\n",
      "Iteration : 3000 - Train Loss : 0.481442, Test Loss : 0.418114, Test mIoU : 53.9264\n",
      "Iteration : 4500 - Train Loss : 0.322210, Test Loss : 0.414649, Test mIoU : 52.3575\n",
      "Epoch 29 Started...\n",
      "Iteration : 1500 - Train Loss : 0.314053, Test Loss : 0.453923, Test mIoU : 50.5549\n",
      "Iteration : 3000 - Train Loss : 0.080817, Test Loss : 0.438777, Test mIoU : 51.4326\n",
      "Iteration : 4500 - Train Loss : 0.388249, Test Loss : 0.482631, Test mIoU : 48.5098\n",
      "Epoch 31 Started...\n",
      "Iteration : 1500 - Train Loss : 0.102987, Test Loss : 0.450714, Test mIoU : 48.9981\n",
      "Iteration : 3000 - Train Loss : 0.506588, Test Loss : 0.413570, Test mIoU : 53.1243\n",
      "Iteration : 4500 - Train Loss : 0.176344, Test Loss : 0.428148, Test mIoU : 53.2406\n",
      "Epoch 33 Started...\n",
      "Iteration : 1500 - Train Loss : 0.059245, Test Loss : 0.436350, Test mIoU : 51.2622\n",
      "Iteration : 3000 - Train Loss : 0.175411, Test Loss : 0.492036, Test mIoU : 44.9994\n",
      "Iteration : 4500 - Train Loss : 0.251486, Test Loss : 0.438226, Test mIoU : 49.8302\n",
      "Epoch 35 Started...\n",
      "Iteration : 1500 - Train Loss : 0.424939, Test Loss : 0.435020, Test mIoU : 51.2987\n",
      "\n",
      "*********************************** Best mIoU Updated ***********************************\n",
      "Iteration : 3000 - Train Loss : 0.108899, Test Loss : 0.406959, Test mIoU : 54.9445\n",
      "\n",
      "Iteration : 4500 - Train Loss : 0.569820, Test Loss : 0.613375, Test mIoU : 42.6498\n"
     ]
    }
   ],
   "source": [
    "fcn.train(train_loader, val_loader, save=save, epochs=epochs, lr=lr, momentum=momentum, weight_decay=weight_decay)"
   ]
  }
 ],
 "metadata": {
  "kernelspec": {
   "display_name": "Python 3",
   "language": "python",
   "name": "python3"
  },
  "language_info": {
   "codemirror_mode": {
    "name": "ipython",
    "version": 3
   },
   "file_extension": ".py",
   "mimetype": "text/x-python",
   "name": "python",
   "nbconvert_exporter": "python",
   "pygments_lexer": "ipython3",
   "version": "3.6.9"
  }
 },
 "nbformat": 4,
 "nbformat_minor": 2
}
